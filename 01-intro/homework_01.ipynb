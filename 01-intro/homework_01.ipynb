{
 "cells": [
  {
   "cell_type": "code",
   "execution_count": 1,
   "id": "dd3acb77",
   "metadata": {},
   "outputs": [],
   "source": [
    "# !pip install pyarrow"
   ]
  },
  {
   "cell_type": "code",
   "execution_count": 47,
   "id": "7b008e82",
   "metadata": {},
   "outputs": [],
   "source": [
    "import pandas as pd\n",
    "import seaborn as sns\n",
    "\n",
    "from sklearn.feature_extraction import DictVectorizer\n",
    "from sklearn.linear_model import LinearRegression\n",
    "from sklearn.metrics import mean_squared_error"
   ]
  },
  {
   "cell_type": "code",
   "execution_count": 70,
   "id": "0318d60e",
   "metadata": {},
   "outputs": [],
   "source": [
    "def import_dataset(filename):\n",
    "    df = pd.read_parquet(filename)\n",
    "    \n",
    "    df['duration'] = df.dropOff_datetime - df.pickup_datetime\n",
    "    df.duration = df.duration.apply(lambda x: x.total_seconds() / 60)\n",
    "    print(f\"mean duration: {df.duration.mean()}\")\n",
    "    \n",
    "    df = df[(df.duration >= 1) & (df.duration <= 60)]\n",
    "    \n",
    "    impute_values = {\n",
    "        'PUlocationID': -1,\n",
    "        'DOlocationID': -1,\n",
    "    }\n",
    "    df = df.fillna(value=impute_values)\n",
    "    missing_values_percentage = df[df.PUlocationID == -1].shape[0] / df.shape[0] * 100\n",
    "    print(f\"% of missing values: {missing_values_percentage}\")\n",
    "    \n",
    "    categorical_cols = ['PUlocationID', 'DOlocationID']    \n",
    "    df[categorical_cols].astype(str)\n",
    "    \n",
    "    return df"
   ]
  },
  {
   "cell_type": "code",
   "execution_count": 71,
   "id": "6a0dcc01",
   "metadata": {
    "scrolled": true
   },
   "outputs": [
    {
     "name": "stdout",
     "output_type": "stream",
     "text": [
      "mean duration: 19.1672240937939\n",
      "% of missing values: 83.52732770722618\n",
      "mean duration: 20.70698622520125\n",
      "% of missing values: 85.71354986754038\n",
      "(1109826, 8)\n",
      "(990113, 8)\n"
     ]
    }
   ],
   "source": [
    "train_df = import_dataset('./data/fhv_tripdata_2021-01.parquet')\n",
    "val_df = import_dataset('./data/fhv_tripdata_2021-02.parquet')\n",
    "print(train_df.shape)\n",
    "print(val_df.shape)"
   ]
  },
  {
   "cell_type": "code",
   "execution_count": 65,
   "id": "b2ffae1f",
   "metadata": {},
   "outputs": [],
   "source": [
    "categorical_cols = ['PUlocationID', 'DOlocationID']\n",
    "train_dicts = train_df[categorical_cols].to_dict(orient='records')\n",
    "val_dicts = val_df[categorical_cols].to_dict(orient='records')\n",
    "\n",
    "dv = DictVectorizer()\n",
    "x_train = dv.fit_transform(train_dicts)\n",
    "x_val = dv.transform(val_dicts)"
   ]
  },
  {
   "cell_type": "code",
   "execution_count": null,
   "id": "57e634d8",
   "metadata": {},
   "outputs": [],
   "source": [
    "target_col = 'duration'\n",
    "y_train = train_df[target_col]\n",
    "y_val = val_df[target_col]\n",
    "\n",
    "lr = LinearRegression()\n",
    "lr.fit(x_train, y_train)\n",
    "\n",
    "y_pred = lr.predict(x_val)\n",
    "\n",
    "mean_squared_error(y_val, y_pred, squared=False)"
   ]
  }
 ],
 "metadata": {
  "kernelspec": {
   "display_name": "Python 3 (ipykernel)",
   "language": "python",
   "name": "python3"
  },
  "language_info": {
   "codemirror_mode": {
    "name": "ipython",
    "version": 3
   },
   "file_extension": ".py",
   "mimetype": "text/x-python",
   "name": "python",
   "nbconvert_exporter": "python",
   "pygments_lexer": "ipython3",
   "version": "3.9.12"
  }
 },
 "nbformat": 4,
 "nbformat_minor": 5
}
